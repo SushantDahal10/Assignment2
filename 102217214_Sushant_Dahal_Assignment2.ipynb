{
  "nbformat": 4,
  "nbformat_minor": 0,
  "metadata": {
    "colab": {
      "provenance": []
    },
    "kernelspec": {
      "name": "python3",
      "display_name": "Python 3"
    },
    "language_info": {
      "name": "python"
    }
  },
  "cells": [
    {
      "cell_type": "code",
      "execution_count": 1,
      "metadata": {
        "colab": {
          "base_uri": "https://localhost:8080/"
        },
        "id": "dDi_kd-jlkaT",
        "outputId": "e5b4492d-5710-4025-8508-06aa2c9cfe47"
      },
      "outputs": [
        {
          "output_type": "stream",
          "name": "stderr",
          "text": [
            "/usr/local/lib/python3.11/dist-packages/sklearn/linear_model/_logistic.py:465: ConvergenceWarning: lbfgs failed to converge (status=1):\n",
            "STOP: TOTAL NO. of ITERATIONS REACHED LIMIT.\n",
            "\n",
            "Increase the number of iterations (max_iter) or scale the data as shown in:\n",
            "    https://scikit-learn.org/stable/modules/preprocessing.html\n",
            "Please also refer to the documentation for alternative solver options:\n",
            "    https://scikit-learn.org/stable/modules/linear_model.html#logistic-regression\n",
            "  n_iter_i = _check_optimize_result(\n"
          ]
        },
        {
          "output_type": "stream",
          "name": "stdout",
          "text": [
            "Accuracy of Logistic Regression with resampled data: 0.8534\n",
            "Accuracy of Random Forest with resampled data: 1.0000\n",
            "Accuracy of Logistic Regression with resampled data: 0.5991\n",
            "Accuracy of Random Forest with resampled data: 0.7672\n"
          ]
        },
        {
          "output_type": "stream",
          "name": "stderr",
          "text": [
            "/usr/local/lib/python3.11/dist-packages/sklearn/linear_model/_logistic.py:465: ConvergenceWarning: lbfgs failed to converge (status=1):\n",
            "STOP: TOTAL NO. of ITERATIONS REACHED LIMIT.\n",
            "\n",
            "Increase the number of iterations (max_iter) or scale the data as shown in:\n",
            "    https://scikit-learn.org/stable/modules/preprocessing.html\n",
            "Please also refer to the documentation for alternative solver options:\n",
            "    https://scikit-learn.org/stable/modules/linear_model.html#logistic-regression\n",
            "  n_iter_i = _check_optimize_result(\n",
            "/usr/local/lib/python3.11/dist-packages/sklearn/linear_model/_logistic.py:465: ConvergenceWarning: lbfgs failed to converge (status=1):\n",
            "STOP: TOTAL NO. of ITERATIONS REACHED LIMIT.\n",
            "\n",
            "Increase the number of iterations (max_iter) or scale the data as shown in:\n",
            "    https://scikit-learn.org/stable/modules/preprocessing.html\n",
            "Please also refer to the documentation for alternative solver options:\n",
            "    https://scikit-learn.org/stable/modules/linear_model.html#logistic-regression\n",
            "  n_iter_i = _check_optimize_result(\n"
          ]
        },
        {
          "output_type": "stream",
          "name": "stdout",
          "text": [
            "Accuracy of Logistic Regression with resampled data: 0.8362\n",
            "Accuracy of Random Forest with resampled data: 1.0000\n",
            "Accuracy of Logistic Regression with resampled data: 0.8621\n"
          ]
        },
        {
          "output_type": "stream",
          "name": "stderr",
          "text": [
            "/usr/local/lib/python3.11/dist-packages/sklearn/linear_model/_logistic.py:465: ConvergenceWarning: lbfgs failed to converge (status=1):\n",
            "STOP: TOTAL NO. of ITERATIONS REACHED LIMIT.\n",
            "\n",
            "Increase the number of iterations (max_iter) or scale the data as shown in:\n",
            "    https://scikit-learn.org/stable/modules/preprocessing.html\n",
            "Please also refer to the documentation for alternative solver options:\n",
            "    https://scikit-learn.org/stable/modules/linear_model.html#logistic-regression\n",
            "  n_iter_i = _check_optimize_result(\n"
          ]
        },
        {
          "output_type": "stream",
          "name": "stdout",
          "text": [
            "Accuracy of Random Forest with resampled data: 0.9828\n"
          ]
        }
      ],
      "source": [
        "import pandas as pd\n",
        "from sklearn.model_selection import train_test_split\n",
        "from sklearn.ensemble import RandomForestClassifier\n",
        "from sklearn.linear_model import LogisticRegression\n",
        "from sklearn.metrics import accuracy_score\n",
        "from sklearn.utils import resample\n",
        "from imblearn.over_sampling import SMOTE\n",
        "from imblearn.under_sampling import RandomUnderSampler\n",
        "from imblearn.over_sampling import RandomOverSampler\n",
        "from imblearn.combine import SMOTEENN\n",
        "\n",
        "df = pd.read_csv('/content/Creditcard_data.csv')\n",
        "X = df.drop(columns=['Class', 'Time'])\n",
        "y = df['Class']\n",
        "df_majority = df[df['Class'] == 0]\n",
        "df_minority = df[df['Class'] == 1]\n",
        "\n",
        "df_minority_oversampled = resample(df_minority, replace=True, n_samples=len(df_majority), random_state=42)\n",
        "df_majority_undersampled = resample(df_majority, replace=False, n_samples=len(df_minority), random_state=42)\n",
        "df_oversampled = pd.concat([df_majority, df_minority_oversampled])\n",
        "df_undersampled = pd.concat([df_majority_undersampled, df_minority])\n",
        "\n",
        "smote = SMOTE(random_state=42)\n",
        "X_smote, y_smote = smote.fit_resample(X, y)\n",
        "\n",
        "under_sampler = RandomUnderSampler(random_state=42)\n",
        "X_under, y_under = under_sampler.fit_resample(X, y)\n",
        "\n",
        "over_sampler = RandomOverSampler(random_state=42)\n",
        "X_over, y_over = over_sampler.fit_resample(X, y)\n",
        "\n",
        "smoteenn = SMOTEENN(random_state=42)\n",
        "X_smoteenn, y_smoteenn = smoteenn.fit_resample(X, y)\n",
        "\n",
        "X_train, X_test, y_train, y_test = train_test_split(X, y, test_size=0.3, random_state=42)\n",
        "\n",
        "models = {\n",
        "    \"Logistic Regression\": LogisticRegression(),\n",
        "    \"Random Forest\": RandomForestClassifier(random_state=42)\n",
        "}\n",
        "\n",
        "def evaluate_model(X_train, X_test, y_train, y_test, X_resampled, y_resampled):\n",
        "    for model_name, model in models.items():\n",
        "        model.fit(X_resampled, y_resampled)\n",
        "        y_pred = model.predict(X_test)\n",
        "        accuracy = accuracy_score(y_test, y_pred)\n",
        "        print(f\"Accuracy of {model_name} with resampled data: {accuracy:.4f}\")\n",
        "\n",
        "evaluate_model(X_train, X_test, y_train, y_test, X_smote, y_smote)\n",
        "evaluate_model(X_train, X_test, y_train, y_test, X_under, y_under)\n",
        "evaluate_model(X_train, X_test, y_train, y_test, X_over, y_over)\n",
        "evaluate_model(X_train, X_test, y_train, y_test, X_smoteenn, y_smoteenn)\n"
      ]
    }
  ]
}